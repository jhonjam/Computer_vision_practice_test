{
 "cells": [
  {
   "cell_type": "markdown",
   "id": "ec63da00",
   "metadata": {},
   "source": [
    "## Instalação de bibliotecas"
   ]
  },
  {
   "cell_type": "code",
   "execution_count": 8,
   "id": "ba68119a",
   "metadata": {},
   "outputs": [
    {
     "name": "stderr",
     "output_type": "stream",
     "text": [
      "ERROR: Invalid requirement: 'tensorflow=2.8.0' (from line 3 of requirements.txt)\n",
      "Hint: = is not a valid operator. Did you mean == ?\n"
     ]
    }
   ],
   "source": [
    "!pip install -r requirements.txt"
   ]
  },
  {
   "cell_type": "code",
   "execution_count": 3,
   "id": "87f1eafc",
   "metadata": {},
   "outputs": [
    {
     "name": "stderr",
     "output_type": "stream",
     "text": [
      "2022-05-13 19:38:42.658570: W tensorflow/stream_executor/platform/default/dso_loader.cc:64] Could not load dynamic library 'cudart64_110.dll'; dlerror: cudart64_110.dll not found\n",
      "2022-05-13 19:38:42.658603: I tensorflow/stream_executor/cuda/cudart_stub.cc:29] Ignore above cudart dlerror if you do not have a GPU set up on your machine.\n"
     ]
    }
   ],
   "source": [
    "# Comando para executar o script de aumento de dados (parafuso)\n",
    "\n",
    "!python generate_dataset.py \\\n",
    " --path_rgb_image \"C:/Users/jhonj/Downloads/dataset_parafuso/\" \\\n",
    " --res_dir \"C:/Users/jhonj/Downloads/dataset_parafuso3\""
   ]
  },
  {
   "cell_type": "markdown",
   "id": "f9ef4119",
   "metadata": {},
   "source": [
    "## Algoritmo de detecção de objetos"
   ]
  },
  {
   "cell_type": "code",
   "execution_count": 3,
   "id": "86a508b2",
   "metadata": {},
   "outputs": [
    {
     "name": "stdout",
     "output_type": "stream",
     "text": [
      "Namespace(cfg_folder='C:/Users/jhonj/Downloads/prova_vision_computacional/files_yolov4/', names='C:/Users/jhonj/Downloads/prova_vision_computacional/files_yolov4/', path_rgb_image='C:/Users/jhonj/Downloads/prova_vision_computacional/img_rgb_detection/', res_dir='C:/Users/jhonj/Downloads/prova_vision_computacional/result', weight_folder='C:/Users/jhonj/Downloads/prova_vision_computacional/files_yolov4/')\n",
      "Detected objects\n",
      "Object number 1 ---> Chanterelle0.3\n"
     ]
    },
    {
     "name": "stderr",
     "output_type": "stream",
     "text": [
      "[ WARN:0@1.132] global D:\\bld\\libopencv_1650899743215\\work\\modules\\dnn\\src\\dnn.cpp (1483) cv::dnn::dnn4_v20211220::Net::Impl::setUpNet DNN module was not built with CUDA backend; switching to CPU\n"
     ]
    },
    {
     "name": "stdout",
     "output_type": "stream",
     "text": [
      "Bounding box coordinates [201, 18, 392, 169]\n",
      "------------------------------\n",
      "Object number 2 ---> Chanterelle0.3\n",
      "Bounding box coordinates [31, 80, 204, 414]\n",
      "------------------------------\n",
      "Object number 3 ---> Chanterelle0.3\n",
      "Bounding box coordinates [15, 151, 122, 395]\n",
      "------------------------------\n",
      "Object number 4 ---> Chanterelle0.9\n",
      "Bounding box coordinates [160, 161, 379, 391]\n",
      "------------------------------\n",
      "C:/Users/jhonj/Downloads/prova_vision_computacional/result\n",
      "Detected objects\n",
      "Object number 1 ---> Chanterelle0.9\n",
      "Bounding box coordinates [80, 91, 360, 354]\n",
      "------------------------------\n",
      "Object number 2 ---> Chanterelle1.0\n",
      "Bounding box coordinates [18, 164, 167, 388]\n",
      "------------------------------\n",
      "C:/Users/jhonj/Downloads/prova_vision_computacional/result\n",
      "Detected objects\n",
      "Object number 1 ---> Chanterelle0.8\n",
      "Bounding box coordinates [80, 93, 366, 353]\n",
      "------------------------------\n",
      "Object number 2 ---> Chanterelle1.0\n",
      "Bounding box coordinates [20, 163, 168, 384]\n",
      "------------------------------\n",
      "C:/Users/jhonj/Downloads/prova_vision_computacional/result\n",
      "Detected objects\n",
      "Object number 1 ---> Chanterelle0.8\n",
      "Bounding box coordinates [87, 22, 354, 404]\n",
      "------------------------------\n",
      "C:/Users/jhonj/Downloads/prova_vision_computacional/result\n",
      "Detected objects\n",
      "Object number 1 ---> CoW0.8\n",
      "Bounding box coordinates [60, 62, 327, 341]\n",
      "------------------------------\n",
      "C:/Users/jhonj/Downloads/prova_vision_computacional/result\n"
     ]
    }
   ],
   "source": [
    "!python main_detection.py \\\n",
    " --weight_folder \"C:/Users/jhonj/Downloads/prova_vision_computacional/files_yolov4/\" \\\n",
    " --path_rgb_image \"C:/Users/jhonj/Downloads/prova_vision_computacional/img_rgb_detection/\" \\\n",
    " --res_dir \"C:/Users/jhonj/Downloads/prova_vision_computacional/result\"\n"
   ]
  },
  {
   "cell_type": "code",
   "execution_count": null,
   "id": "e67fb4c8",
   "metadata": {},
   "outputs": [],
   "source": []
  }
 ],
 "metadata": {
  "kernelspec": {
   "display_name": "Python 3 (ipykernel)",
   "language": "python",
   "name": "python3"
  },
  "language_info": {
   "codemirror_mode": {
    "name": "ipython",
    "version": 3
   },
   "file_extension": ".py",
   "mimetype": "text/x-python",
   "name": "python",
   "nbconvert_exporter": "python",
   "pygments_lexer": "ipython3",
   "version": "3.7.13"
  }
 },
 "nbformat": 4,
 "nbformat_minor": 5
}
